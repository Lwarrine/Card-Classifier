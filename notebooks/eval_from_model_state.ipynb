{
 "cells": [
  {
   "cell_type": "code",
   "execution_count": 1,
   "id": "ecd88505-0f1b-4083-a298-fdb02a81544c",
   "metadata": {},
   "outputs": [],
   "source": [
    "import torch\n",
    "import torch.nn as nn\n",
    "import sys\n",
    "import os\n",
    "sys.path.append(os.path.abspath('..'))\n",
    "from model.model1 import CardClassifier\n",
    "from dataset.dataloader1 import PlayingCardDataset\n",
    "from model.train_models import Trainer"
   ]
  },
  {
   "cell_type": "code",
   "execution_count": 2,
   "id": "38df7d02-4e60-4350-b394-5629dc658f39",
   "metadata": {},
   "outputs": [
    {
     "data": {
      "text/plain": [
       "CardClassifier(\n",
       "  (conv1): Conv2d(3, 16, kernel_size=(3, 3), stride=(1, 1), padding=(1, 1))\n",
       "  (conv1_1): Conv2d(16, 32, kernel_size=(3, 3), stride=(1, 1), padding=(1, 1))\n",
       "  (conv2): Conv2d(32, 64, kernel_size=(3, 3), stride=(1, 1), padding=(1, 1))\n",
       "  (conv2_1): Conv2d(64, 64, kernel_size=(3, 3), stride=(1, 1), padding=(1, 1))\n",
       "  (pool): MaxPool2d(kernel_size=2, stride=2, padding=0, dilation=1, ceil_mode=False)\n",
       "  (fc1): Linear(in_features=65536, out_features=64, bias=True)\n",
       "  (fc2): Linear(in_features=64, out_features=6, bias=True)\n",
       "  (act): LeakyReLU(negative_slope=0.01)\n",
       "  (act2): ReLU()\n",
       "  (dropout): Dropout(p=0.3, inplace=False)\n",
       ")"
      ]
     },
     "execution_count": 2,
     "metadata": {},
     "output_type": "execute_result"
    }
   ],
   "source": [
    "model = CardClassifier(3,6)\n",
    "model"
   ]
  },
  {
   "cell_type": "code",
   "execution_count": 3,
   "id": "58fcfe76-0a23-4e0b-99ae-a6c143b5a328",
   "metadata": {},
   "outputs": [
    {
     "data": {
      "text/plain": [
       "<All keys matched successfully>"
      ]
     },
     "execution_count": 3,
     "metadata": {},
     "output_type": "execute_result"
    }
   ],
   "source": [
    "model.load_state_dict(torch.load(\"best_model.pth\", weights_only=True))"
   ]
  },
  {
   "cell_type": "code",
   "execution_count": 6,
   "id": "f7049ec9-8e83-4ac9-acc9-62ae849f34d2",
   "metadata": {},
   "outputs": [],
   "source": [
    "device = \"cpu\"\n",
    "if torch.cuda.is_available():\n",
    "    device = \"cuda\"\n",
    "else:\n",
    "    if torch.backends.mps.is_available():\n",
    "        device = \"mps\"\n",
    "train_set, test_set, val_ser, = PlayingCardDataset.get_data_loaders(batch_size = 128, random_seed = 12)\n",
    "trainer = Trainer()"
   ]
  },
  {
   "cell_type": "code",
   "execution_count": 7,
   "id": "551e3e23-7aa0-46da-aa42-4ba52cb801db",
   "metadata": {},
   "outputs": [],
   "source": [
    "loss, acc = trainer.evaluation_step(model = model, data_loader = test_set, loss_fn = torch.nn.CrossEntropyLoss() , reg_param=0.001, device = device)"
   ]
  },
  {
   "cell_type": "code",
   "execution_count": 8,
   "id": "ccf726ea-c5ab-4227-94f8-816d73b62011",
   "metadata": {},
   "outputs": [
    {
     "name": "stdout",
     "output_type": "stream",
     "text": [
      "0.0653035116310303\n",
      "0.9807692307692307\n"
     ]
    }
   ],
   "source": [
    "print(loss)\n",
    "print(acc)"
   ]
  },
  {
   "cell_type": "code",
   "execution_count": null,
   "id": "160fdfb4-af9a-429d-bf7d-4f0cad314c2a",
   "metadata": {},
   "outputs": [],
   "source": []
  }
 ],
 "metadata": {
  "kernelspec": {
   "display_name": "Python 3 (ipykernel)",
   "language": "python",
   "name": "python3"
  },
  "language_info": {
   "codemirror_mode": {
    "name": "ipython",
    "version": 3
   },
   "file_extension": ".py",
   "mimetype": "text/x-python",
   "name": "python",
   "nbconvert_exporter": "python",
   "pygments_lexer": "ipython3",
   "version": "3.8.16"
  }
 },
 "nbformat": 4,
 "nbformat_minor": 5
}
